{
  "nbformat": 4,
  "nbformat_minor": 0,
  "metadata": {
    "colab": {
      "name": "Data-Preprocessing.ipynb",
      "version": "0.3.2",
      "provenance": []
    },
    "kernelspec": {
      "name": "python3",
      "display_name": "Python 3"
    },
    "accelerator": "GPU"
  },
  "cells": [
    {
      "cell_type": "code",
      "metadata": {
        "id": "ppKMVzXT88yB",
        "colab_type": "code",
        "colab": {}
      },
      "source": [
        "import numpy as np\n",
        "import pandas as pd\n",
        "import matplotlib.pyplot as plt\n",
        "import seaborn as sns"
      ],
      "execution_count": 0,
      "outputs": []
    },
    {
      "cell_type": "markdown",
      "metadata": {
        "id": "iVo-GNGSG9ST",
        "colab_type": "text"
      },
      "source": [
        "## Read the csv file"
      ]
    },
    {
      "cell_type": "code",
      "metadata": {
        "id": "4TkngUxnDGKA",
        "colab_type": "code",
        "colab": {}
      },
      "source": [
        "train_df = pd.read_csv(\"Housing_Train.csv\")"
      ],
      "execution_count": 0,
      "outputs": []
    },
    {
      "cell_type": "markdown",
      "metadata": {
        "id": "xOrQURPlNU5h",
        "colab_type": "text"
      },
      "source": [
        "## Overview of the Data"
      ]
    },
    {
      "cell_type": "code",
      "metadata": {
        "id": "Q-x2vYpiLk5K",
        "colab_type": "code",
        "colab": {}
      },
      "source": [
        "train_df.head(5)"
      ],
      "execution_count": 0,
      "outputs": []
    },
    {
      "cell_type": "markdown",
      "metadata": {
        "id": "0mBCScpLPWsy",
        "colab_type": "text"
      },
      "source": [
        "### Get Size of the dataset"
      ]
    },
    {
      "cell_type": "code",
      "metadata": {
        "id": "CVyYIwNfNce0",
        "colab_type": "code",
        "colab": {}
      },
      "source": [
        "print(train_df.shape)"
      ],
      "execution_count": 0,
      "outputs": []
    },
    {
      "cell_type": "markdown",
      "metadata": {
        "id": "OS0giOAlQS_L",
        "colab_type": "text"
      },
      "source": [
        "## Missing Data"
      ]
    },
    {
      "cell_type": "code",
      "metadata": {
        "id": "QIfmefajVCuL",
        "colab_type": "code",
        "colab": {}
      },
      "source": [
        "train_df_na = (train_df.isnull().sum() / len(train_df)) * 100  # Get percentage of missing data (Nan or None) in each columns \n",
        "train_df_na = train_df_na.drop(train_df_na[train_df_na == 0].index).sort_values(ascending=False)\n",
        "train_df_na=pd.DataFrame(train_df_na)"
      ],
      "execution_count": 0,
      "outputs": []
    },
    {
      "cell_type": "code",
      "metadata": {
        "id": "FkJD5j-ugdjS",
        "colab_type": "code",
        "colab": {}
      },
      "source": [
        "train_df_na.columns=['Missing_Percent']"
      ],
      "execution_count": 0,
      "outputs": []
    },
    {
      "cell_type": "code",
      "metadata": {
        "id": "yeo9aykdHpQ0",
        "colab_type": "code",
        "colab": {}
      },
      "source": [
        "train_df_na"
      ],
      "execution_count": 0,
      "outputs": []
    },
    {
      "cell_type": "markdown",
      "metadata": {
        "id": "guYyx_-TdgOB",
        "colab_type": "text"
      },
      "source": [
        "## Drop any feature with more than 10 % missing data, also drop the id column"
      ]
    },
    {
      "cell_type": "code",
      "metadata": {
        "id": "u35mwi6_deL-",
        "colab_type": "code",
        "outputId": "c78456ad-d32f-4957-da26-611d92999627",
        "colab": {
          "base_uri": "https://localhost:8080/",
          "height": 67
        }
      },
      "source": [
        "feature_drop= train_df_na[train_df_na.Missing_Percent>10].index\n",
        "feature_drop"
      ],
      "execution_count": 10,
      "outputs": [
        {
          "output_type": "execute_result",
          "data": {
            "text/plain": [
              "Index(['PoolQC', 'MiscFeature', 'Alley', 'Fence', 'FireplaceQu',\n",
              "       'LotFrontage'],\n",
              "      dtype='object')"
            ]
          },
          "metadata": {
            "tags": []
          },
          "execution_count": 10
        }
      ]
    },
    {
      "cell_type": "code",
      "metadata": {
        "id": "QFKEiRuIhsTw",
        "colab_type": "code",
        "colab": {}
      },
      "source": [
        "train_df=train_df.drop(columns=feature_drop)\n",
        "train_df=train_df.drop(columns=['Id'])\n",
        "train_df.shape"
      ],
      "execution_count": 0,
      "outputs": []
    },
    {
      "cell_type": "code",
      "metadata": {
        "id": "zMQxf7CKiqxx",
        "colab_type": "code",
        "colab": {}
      },
      "source": [
        "train_df.head(5)"
      ],
      "execution_count": 0,
      "outputs": []
    },
    {
      "cell_type": "code",
      "metadata": {
        "id": "kCLsPlT9DQsG",
        "colab_type": "code",
        "colab": {}
      },
      "source": [
        "train_df.shape"
      ],
      "execution_count": 0,
      "outputs": []
    },
    {
      "cell_type": "markdown",
      "metadata": {
        "id": "EWJjYAhQjKCR",
        "colab_type": "text"
      },
      "source": [
        "## Impute the rest of the missing data with the mean"
      ]
    },
    {
      "cell_type": "code",
      "metadata": {
        "id": "OB25_GR_05Vl",
        "colab_type": "code",
        "colab": {
          "base_uri": "https://localhost:8080/",
          "height": 33
        },
        "outputId": "de95f748-2153-4e7f-a520-cf0f8c234dfb"
      },
      "source": [
        "train_df[\"MasVnrType\"].unique()"
      ],
      "execution_count": 16,
      "outputs": [
        {
          "output_type": "execute_result",
          "data": {
            "text/plain": [
              "array(['BrkFace', 'None', 'Stone', 'BrkCmn'], dtype=object)"
            ]
          },
          "metadata": {
            "tags": []
          },
          "execution_count": 16
        }
      ]
    },
    {
      "cell_type": "code",
      "metadata": {
        "id": "gorvjH_5fmjb",
        "colab_type": "code",
        "colab": {}
      },
      "source": [
        "train_df[\"MasVnrType\"] = train_df[\"MasVnrType\"].fillna(\"None\")\n"
      ],
      "execution_count": 0,
      "outputs": []
    },
    {
      "cell_type": "code",
      "metadata": {
        "id": "LAtgPBSNl5jt",
        "colab_type": "code",
        "colab": {}
      },
      "source": [
        "for col in ('GarageType', 'GarageFinish', 'GarageQual', 'GarageCond'):\n",
        "    train_df[col] = train_df[col].fillna('None')"
      ],
      "execution_count": 0,
      "outputs": []
    },
    {
      "cell_type": "code",
      "metadata": {
        "id": "82SHT4A-fjbr",
        "colab_type": "code",
        "colab": {}
      },
      "source": [
        "for col in ('BsmtQual', 'BsmtCond', 'BsmtExposure', 'BsmtFinType1', 'BsmtFinType2'):\n",
        "    train_df[col] = train_df[col].fillna('None')"
      ],
      "execution_count": 0,
      "outputs": []
    },
    {
      "cell_type": "code",
      "metadata": {
        "id": "EpfcUBNkfpQP",
        "colab_type": "code",
        "colab": {}
      },
      "source": [
        "train_df[\"MasVnrArea\"] = train_df[\"MasVnrArea\"].fillna(0)"
      ],
      "execution_count": 0,
      "outputs": []
    },
    {
      "cell_type": "code",
      "metadata": {
        "id": "dgNwz03ufrou",
        "colab_type": "code",
        "colab": {}
      },
      "source": [
        "train_df['Electrical'] = train_df['Electrical'].fillna(train_df['Electrical'].mode()[0])\n"
      ],
      "execution_count": 0,
      "outputs": []
    },
    {
      "cell_type": "code",
      "metadata": {
        "id": "sTbvv7wmoKnu",
        "colab_type": "code",
        "colab": {}
      },
      "source": [
        "for col in ('GarageYrBlt', 'GarageArea', 'GarageCars'):\n",
        "    train_df[col] = train_df[col].fillna(0)"
      ],
      "execution_count": 0,
      "outputs": []
    },
    {
      "cell_type": "code",
      "metadata": {
        "id": "qMvzAvFQopp0",
        "colab_type": "code",
        "colab": {}
      },
      "source": [
        "for col in ('BsmtFinSF1', 'BsmtFinSF2', 'BsmtUnfSF','TotalBsmtSF', 'BsmtFullBath', 'BsmtHalfBath'):\n",
        "    train_df[col] = train_df[col].fillna(0)"
      ],
      "execution_count": 0,
      "outputs": []
    },
    {
      "cell_type": "markdown",
      "metadata": {
        "id": "koT9ISlVIBAA",
        "colab_type": "text"
      },
      "source": [
        "## Check for any missing data"
      ]
    },
    {
      "cell_type": "code",
      "metadata": {
        "id": "HSZdp1OxpG98",
        "colab_type": "code",
        "colab": {}
      },
      "source": [
        "train_df.isnull().sum().max()"
      ],
      "execution_count": 0,
      "outputs": []
    },
    {
      "cell_type": "markdown",
      "metadata": {
        "id": "3Ohb-4QmaHO-",
        "colab_type": "text"
      },
      "source": [
        "## Adjust Skew"
      ]
    },
    {
      "cell_type": "code",
      "metadata": {
        "id": "-cA3_npXaFiz",
        "colab_type": "code",
        "colab": {}
      },
      "source": [
        "import seaborn as sns\n",
        "sns.distplot(train_df['SalePrice'])"
      ],
      "execution_count": 0,
      "outputs": []
    },
    {
      "cell_type": "code",
      "metadata": {
        "id": "tRoTpAlpc_qP",
        "colab_type": "code",
        "colab": {}
      },
      "source": [
        "train_df['SalePrice']= np.log(train_df['SalePrice'])\n",
        "sns.distplot(train_df['SalePrice'])"
      ],
      "execution_count": 0,
      "outputs": []
    },
    {
      "cell_type": "markdown",
      "metadata": {
        "id": "R_sZ9sXzIZJl",
        "colab_type": "text"
      },
      "source": [
        "## Label Encoding"
      ]
    },
    {
      "cell_type": "code",
      "metadata": {
        "id": "ZEd9p0iJ26pb",
        "colab_type": "code",
        "colab": {}
      },
      "source": [
        "from sklearn.preprocessing import LabelEncoder\n"
      ],
      "execution_count": 0,
      "outputs": []
    },
    {
      "cell_type": "code",
      "metadata": {
        "id": "YMMlZGPF2ghl",
        "colab_type": "code",
        "colab": {
          "base_uri": "https://localhost:8080/",
          "height": 33
        },
        "outputId": "96b02992-45f9-4781-f0cd-947d2e4063c9"
      },
      "source": [
        "train_df['BsmtQual'].unique()"
      ],
      "execution_count": 29,
      "outputs": [
        {
          "output_type": "execute_result",
          "data": {
            "text/plain": [
              "array(['Gd', 'TA', 'Ex', 'None', 'Fa'], dtype=object)"
            ]
          },
          "metadata": {
            "tags": []
          },
          "execution_count": 29
        }
      ]
    },
    {
      "cell_type": "code",
      "metadata": {
        "id": "YhOLwlis2xef",
        "colab_type": "code",
        "colab": {}
      },
      "source": [
        "lbl = LabelEncoder() \n",
        "lbl.fit(list(train_df['BsmtQual'].values)) \n",
        "train_df['BsmtQual'] = lbl.transform(list(train_df['BsmtQual'].values))"
      ],
      "execution_count": 0,
      "outputs": []
    },
    {
      "cell_type": "code",
      "metadata": {
        "id": "zfrcOqot3X7n",
        "colab_type": "code",
        "colab": {
          "base_uri": "https://localhost:8080/",
          "height": 33
        },
        "outputId": "8d1efb95-5786-44ba-ac88-bb9fdfda6610"
      },
      "source": [
        "train_df['BsmtQual'].unique()"
      ],
      "execution_count": 31,
      "outputs": [
        {
          "output_type": "execute_result",
          "data": {
            "text/plain": [
              "array([2, 4, 0, 3, 1])"
            ]
          },
          "metadata": {
            "tags": []
          },
          "execution_count": 31
        }
      ]
    },
    {
      "cell_type": "code",
      "metadata": {
        "id": "6WKXXjJAIJ1q",
        "colab_type": "code",
        "colab": {}
      },
      "source": [
        "cols = ('BsmtCond', 'GarageQual', 'GarageCond', \n",
        "        'ExterQual', 'ExterCond','HeatingQC', 'KitchenQual', 'BsmtFinType1', \n",
        "        'BsmtFinType2', 'Functional', 'BsmtExposure', 'GarageFinish', 'LandSlope',\n",
        "        'LotShape', 'PavedDrive', 'Street', 'CentralAir', 'MSSubClass', 'OverallCond', \n",
        "        'YrSold', 'MoSold')\n",
        "for c in cols:\n",
        "    lbl = LabelEncoder() \n",
        "    lbl.fit(list(train_df[c].values)) \n",
        "    train_df[c] = lbl.transform(list(train_df[c].values))"
      ],
      "execution_count": 0,
      "outputs": []
    },
    {
      "cell_type": "markdown",
      "metadata": {
        "id": "2FSayEh-Jfhg",
        "colab_type": "text"
      },
      "source": [
        "## Creating the dummie variables"
      ]
    },
    {
      "cell_type": "code",
      "metadata": {
        "id": "9fU4a7916C7K",
        "colab_type": "code",
        "colab": {}
      },
      "source": [
        "pd.get_dummies(train_df['BsmtQual'])\n"
      ],
      "execution_count": 0,
      "outputs": []
    },
    {
      "cell_type": "code",
      "metadata": {
        "id": "RVHf0Kj4JN1e",
        "colab_type": "code",
        "colab": {}
      },
      "source": [
        "train_df = pd.get_dummies(train_df)\n",
        "print(train_df.shape)"
      ],
      "execution_count": 0,
      "outputs": []
    },
    {
      "cell_type": "markdown",
      "metadata": {
        "id": "FZ0tN0OmQ2M2",
        "colab_type": "text"
      },
      "source": [
        "## Create Training and Validation Sets"
      ]
    },
    {
      "cell_type": "code",
      "metadata": {
        "id": "yFZjwWTWQ0sv",
        "colab_type": "code",
        "colab": {}
      },
      "source": [
        "from sklearn .model_selection import train_test_split"
      ],
      "execution_count": 0,
      "outputs": []
    },
    {
      "cell_type": "code",
      "metadata": {
        "id": "iS-DaWdFRYiv",
        "colab_type": "code",
        "colab": {}
      },
      "source": [
        "Target_Variables= train_df.SalePrice\n",
        "Target_Variables"
      ],
      "execution_count": 0,
      "outputs": []
    },
    {
      "cell_type": "code",
      "metadata": {
        "id": "WbCnEUBwRrES",
        "colab_type": "code",
        "colab": {}
      },
      "source": [
        "train_df= train_df.drop(columns='SalePrice')"
      ],
      "execution_count": 0,
      "outputs": []
    },
    {
      "cell_type": "code",
      "metadata": {
        "id": "7TajfTXaRLc-",
        "colab_type": "code",
        "colab": {}
      },
      "source": [
        "X_train, X_Valid, Y_train, Y_Valid=train_test_split(train_df,Target_Variables, test_size=0.25, random_state=4)"
      ],
      "execution_count": 0,
      "outputs": []
    }
  ]
}